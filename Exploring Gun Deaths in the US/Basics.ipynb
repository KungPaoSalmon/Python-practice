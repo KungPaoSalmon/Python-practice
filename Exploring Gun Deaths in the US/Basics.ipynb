{
 "cells": [
  {
   "cell_type": "code",
   "execution_count": 1,
   "metadata": {
    "collapsed": false
   },
   "outputs": [
    {
     "name": "stdout",
     "output_type": "stream",
     "text": [
      "[['', 'year', 'month', 'intent', 'police', 'sex', 'age', 'race', 'hispanic', 'place', 'education'], ['1', '2012', '01', 'Suicide', '0', 'M', '34', 'Asian/Pacific Islander', '100', 'Home', '4'], ['2', '2012', '01', 'Suicide', '0', 'F', '21', 'White', '100', 'Street', '3'], ['3', '2012', '01', 'Suicide', '0', 'M', '60', 'White', '100', 'Other specified', '4'], ['4', '2012', '02', 'Suicide', '0', 'M', '64', 'White', '100', 'Home', '4']]\n"
     ]
    }
   ],
   "source": [
    "import csv\n",
    "import datetime as d\n",
    "\n",
    "# read data as list\n",
    "data=list(csv.reader(open('guns.csv','r')))\n",
    "print(data[0:5])"
   ]
  },
  {
   "cell_type": "code",
   "execution_count": 2,
   "metadata": {
    "collapsed": false
   },
   "outputs": [
    {
     "name": "stdout",
     "output_type": "stream",
     "text": [
      "['', 'year', 'month', 'intent', 'police', 'sex', 'age', 'race', 'hispanic', 'place', 'education']\n"
     ]
    },
    {
     "data": {
      "text/plain": [
       "[['1',\n",
       "  '2012',\n",
       "  '01',\n",
       "  'Suicide',\n",
       "  '0',\n",
       "  'M',\n",
       "  '34',\n",
       "  'Asian/Pacific Islander',\n",
       "  '100',\n",
       "  'Home',\n",
       "  '4'],\n",
       " ['2', '2012', '01', 'Suicide', '0', 'F', '21', 'White', '100', 'Street', '3'],\n",
       " ['3',\n",
       "  '2012',\n",
       "  '01',\n",
       "  'Suicide',\n",
       "  '0',\n",
       "  'M',\n",
       "  '60',\n",
       "  'White',\n",
       "  '100',\n",
       "  'Other specified',\n",
       "  '4'],\n",
       " ['4', '2012', '02', 'Suicide', '0', 'M', '64', 'White', '100', 'Home', '4'],\n",
       " ['5',\n",
       "  '2012',\n",
       "  '02',\n",
       "  'Suicide',\n",
       "  '0',\n",
       "  'M',\n",
       "  '31',\n",
       "  'White',\n",
       "  '100',\n",
       "  'Other specified',\n",
       "  '2']]"
      ]
     },
     "execution_count": 2,
     "metadata": {},
     "output_type": "execute_result"
    }
   ],
   "source": [
    "#divide headers and main part\n",
    "headers=data[0]\n",
    "data=data[1:]\n",
    "print(headers)\n",
    "data[0:5]"
   ]
  },
  {
   "cell_type": "code",
   "execution_count": 3,
   "metadata": {
    "collapsed": false
   },
   "outputs": [
    {
     "data": {
      "text/plain": [
       "{'2012': 33563, '2013': 33636, '2014': 33599}"
      ]
     },
     "execution_count": 3,
     "metadata": {},
     "output_type": "execute_result"
    }
   ],
   "source": [
    "#count events in every year\n",
    "years_counts={}\n",
    "for i in data:\n",
    "    if i[1] in years_counts:\n",
    "        years_counts[i[1]]+=1\n",
    "    else:\n",
    "        years_counts[i[1]]=1\n",
    "years_counts"
   ]
  },
  {
   "cell_type": "code",
   "execution_count": 4,
   "metadata": {
    "collapsed": false
   },
   "outputs": [
    {
     "data": {
      "text/plain": [
       "{datetime.datetime(2012, 1, 1, 0, 0): 2758,\n",
       " datetime.datetime(2012, 2, 1, 0, 0): 2357,\n",
       " datetime.datetime(2012, 3, 1, 0, 0): 2743,\n",
       " datetime.datetime(2012, 4, 1, 0, 0): 2795,\n",
       " datetime.datetime(2012, 5, 1, 0, 0): 2999,\n",
       " datetime.datetime(2012, 6, 1, 0, 0): 2826,\n",
       " datetime.datetime(2012, 7, 1, 0, 0): 3026,\n",
       " datetime.datetime(2012, 8, 1, 0, 0): 2954,\n",
       " datetime.datetime(2012, 9, 1, 0, 0): 2852,\n",
       " datetime.datetime(2012, 10, 1, 0, 0): 2733,\n",
       " datetime.datetime(2012, 11, 1, 0, 0): 2729,\n",
       " datetime.datetime(2012, 12, 1, 0, 0): 2791,\n",
       " datetime.datetime(2013, 1, 1, 0, 0): 2864,\n",
       " datetime.datetime(2013, 2, 1, 0, 0): 2375,\n",
       " datetime.datetime(2013, 3, 1, 0, 0): 2862,\n",
       " datetime.datetime(2013, 4, 1, 0, 0): 2798,\n",
       " datetime.datetime(2013, 5, 1, 0, 0): 2806,\n",
       " datetime.datetime(2013, 6, 1, 0, 0): 2920,\n",
       " datetime.datetime(2013, 7, 1, 0, 0): 3079,\n",
       " datetime.datetime(2013, 8, 1, 0, 0): 2859,\n",
       " datetime.datetime(2013, 9, 1, 0, 0): 2742,\n",
       " datetime.datetime(2013, 10, 1, 0, 0): 2808,\n",
       " datetime.datetime(2013, 11, 1, 0, 0): 2758,\n",
       " datetime.datetime(2013, 12, 1, 0, 0): 2765,\n",
       " datetime.datetime(2014, 1, 1, 0, 0): 2651,\n",
       " datetime.datetime(2014, 2, 1, 0, 0): 2361,\n",
       " datetime.datetime(2014, 3, 1, 0, 0): 2684,\n",
       " datetime.datetime(2014, 4, 1, 0, 0): 2862,\n",
       " datetime.datetime(2014, 5, 1, 0, 0): 2864,\n",
       " datetime.datetime(2014, 6, 1, 0, 0): 2931,\n",
       " datetime.datetime(2014, 7, 1, 0, 0): 2884,\n",
       " datetime.datetime(2014, 8, 1, 0, 0): 2970,\n",
       " datetime.datetime(2014, 9, 1, 0, 0): 2914,\n",
       " datetime.datetime(2014, 10, 1, 0, 0): 2865,\n",
       " datetime.datetime(2014, 11, 1, 0, 0): 2756,\n",
       " datetime.datetime(2014, 12, 1, 0, 0): 2857}"
      ]
     },
     "execution_count": 4,
     "metadata": {},
     "output_type": "execute_result"
    }
   ],
   "source": [
    "#count events in every month\n",
    "dates=[]\n",
    "for i in data:\n",
    "    dates.append(d.datetime(year=int(i[1]),month=int(i[2]),day=1))\n",
    "dates[0:5]\n",
    "day_counts={}\n",
    "for i in dates:\n",
    "    if i in day_counts:\n",
    "        day_counts[i]+=1\n",
    "    else:\n",
    "        day_counts[i]=1\n",
    "day_counts\n"
   ]
  },
  {
   "cell_type": "code",
   "execution_count": 5,
   "metadata": {
    "collapsed": false
   },
   "outputs": [
    {
     "name": "stdout",
     "output_type": "stream",
     "text": [
      "{'F': 14449, 'M': 86349}\n",
      "{'White': 66237, 'Asian/Pacific Islander': 1326, 'Hispanic': 9022, 'Native American/Native Alaskan': 917, 'Black': 23296}\n"
     ]
    }
   ],
   "source": [
    "#count event in every sex and race label\n",
    "sex_counts={}\n",
    "race_counts={}\n",
    "for i in data:\n",
    "    if i[5] in sex_counts:\n",
    "        sex_counts[i[5]]+=1\n",
    "    else:\n",
    "        sex_counts[i[5]]=1\n",
    "    if i[7] in race_counts:\n",
    "        race_counts[i[7]]+=1\n",
    "    else:\n",
    "        race_counts[i[7]]=1\n",
    "print(sex_counts)\n",
    "print(race_counts)"
   ]
  },
  {
   "cell_type": "markdown",
   "metadata": {},
   "source": [
    "We can see that numbers of events happened in each month and year are similar. However, in gun deaths there are much more males than females. And for race, white has largest amount of events."
   ]
  },
  {
   "cell_type": "code",
   "execution_count": 6,
   "metadata": {
    "collapsed": false
   },
   "outputs": [
    {
     "data": {
      "text/plain": [
       "[['Id',\n",
       "  'Year',\n",
       "  'Id',\n",
       "  'Sex',\n",
       "  'Id',\n",
       "  'Hispanic Origin',\n",
       "  'Id',\n",
       "  'Id2',\n",
       "  'Geography',\n",
       "  'Total',\n",
       "  'Race Alone - White',\n",
       "  'Race Alone - Hispanic',\n",
       "  'Race Alone - Black or African American',\n",
       "  'Race Alone - American Indian and Alaska Native',\n",
       "  'Race Alone - Asian',\n",
       "  'Race Alone - Native Hawaiian and Other Pacific Islander',\n",
       "  'Two or More Races'],\n",
       " ['cen42010',\n",
       "  'April 1, 2010 Census',\n",
       "  'totsex',\n",
       "  'Both Sexes',\n",
       "  'tothisp',\n",
       "  'Total',\n",
       "  '0100000US',\n",
       "  '',\n",
       "  'United States',\n",
       "  '308745538',\n",
       "  '197318956',\n",
       "  '44618105',\n",
       "  '40250635',\n",
       "  '3739506',\n",
       "  '15159516',\n",
       "  '674625',\n",
       "  '6984195']]"
      ]
     },
     "execution_count": 6,
     "metadata": {},
     "output_type": "execute_result"
    }
   ],
   "source": [
    "census=list(csv.reader(open(\"census.csv\",\"r\")))\n",
    "census"
   ]
  },
  {
   "cell_type": "code",
   "execution_count": 7,
   "metadata": {
    "collapsed": false
   },
   "outputs": [
    {
     "data": {
      "text/plain": [
       "{'Asian/Pacific Islander': 8.374309664161762,\n",
       " 'Black': 57.877347773519595,\n",
       " 'Hispanic': 20.220491210910907,\n",
       " 'Native American/Native Alaskan': 24.521955573811088,\n",
       " 'White': 33.56849303419181}"
      ]
     },
     "execution_count": 7,
     "metadata": {},
     "output_type": "execute_result"
    }
   ],
   "source": [
    "#count gun deaths for each race per 100000 people\n",
    "map={\"Asian/Pacific Islander\":674625+15159516,\"Black\":40250635,\"Hispanic\":44618105,\"Native American/Native Alaskan\":3739506,\"White\":197318956}\n",
    "map\n",
    "race_per_hundredk={}\n",
    "for i in race_counts:\n",
    "    race_per_hundredk[i]=race_counts[i]*100000/map[i]\n",
    "race_per_hundredk"
   ]
  },
  {
   "cell_type": "code",
   "execution_count": 13,
   "metadata": {
    "collapsed": false
   },
   "outputs": [
    {
     "data": {
      "text/plain": [
       "{'Asian/Pacific Islander': 559,\n",
       " 'Black': 19510,\n",
       " 'Hispanic': 5634,\n",
       " 'Native American/Native Alaskan': 326,\n",
       " 'White': 9147}"
      ]
     },
     "execution_count": 13,
     "metadata": {},
     "output_type": "execute_result"
    }
   ],
   "source": [
    "#count homicide for each race\n",
    "homicide_race_counts={}\n",
    "for i in data:\n",
    "    if i[3]==\"Homicide\":\n",
    "        if i[7] in homicide_race_counts:\n",
    "            homicide_race_counts[i[7]]+=1\n",
    "        else:\n",
    "            homicide_race_counts[i[7]]=1\n",
    "homicide_race_counts\n",
    "\n"
   ]
  },
  {
   "cell_type": "code",
   "execution_count": 14,
   "metadata": {
    "collapsed": false
   },
   "outputs": [
    {
     "name": "stdout",
     "output_type": "stream",
     "text": [
      "{'Hispanic': 12.627161104219912, 'White': 4.6356417981453335, 'Native American/Native Alaskan': 8.717729026240365, 'Asian/Pacific Islander': 3.5303462309701548, 'Black': 48.47128498718095}\n",
      "{'Black': 57.877347773519595, 'White': 33.56849303419181, 'Hispanic': 20.220491210910907, 'Asian/Pacific Islander': 8.374309664161762, 'Native American/Native Alaskan': 24.521955573811088}\n"
     ]
    }
   ],
   "source": [
    "#count homicide for each race per 100000 people\n",
    "for i in homicide_race_counts:\n",
    "    homicide_race_counts[i]=homicide_race_counts[i]*100000/map[i]\n",
    "print(homicide_race_counts)\n",
    "print(race_per_hundredk)\n"
   ]
  },
  {
   "cell_type": "markdown",
   "metadata": {},
   "source": [
    "We could see the comparing between two dictionary, homicide_race_counts and race_per_hundredk. For black, the numbers of gun deaths by homicide take the main part of all gun deaths, while for other races, it only take a half or less."
   ]
  },
  {
   "cell_type": "code",
   "execution_count": 18,
   "metadata": {
    "collapsed": false
   },
   "outputs": [
    {
     "name": "stdout",
     "output_type": "stream",
     "text": [
      "{datetime.datetime(2013, 11, 1, 0, 0): 2758, datetime.datetime(2013, 1, 1, 0, 0): 2864, datetime.datetime(2013, 2, 1, 0, 0): 2375, datetime.datetime(2014, 10, 1, 0, 0): 2865, datetime.datetime(2012, 4, 1, 0, 0): 2795, datetime.datetime(2013, 10, 1, 0, 0): 2808, datetime.datetime(2012, 5, 1, 0, 0): 2999, datetime.datetime(2012, 7, 1, 0, 0): 3026, datetime.datetime(2013, 9, 1, 0, 0): 2742, datetime.datetime(2013, 3, 1, 0, 0): 2862, datetime.datetime(2013, 12, 1, 0, 0): 2765, datetime.datetime(2014, 4, 1, 0, 0): 2862, datetime.datetime(2014, 9, 1, 0, 0): 2914, datetime.datetime(2013, 7, 1, 0, 0): 3079, datetime.datetime(2014, 8, 1, 0, 0): 2970, datetime.datetime(2014, 5, 1, 0, 0): 2864, datetime.datetime(2014, 12, 1, 0, 0): 2857, datetime.datetime(2014, 3, 1, 0, 0): 2684, datetime.datetime(2014, 7, 1, 0, 0): 2884, datetime.datetime(2012, 10, 1, 0, 0): 2733, datetime.datetime(2014, 2, 1, 0, 0): 2361, datetime.datetime(2012, 3, 1, 0, 0): 2743, datetime.datetime(2014, 1, 1, 0, 0): 2651, datetime.datetime(2014, 6, 1, 0, 0): 2931, datetime.datetime(2014, 11, 1, 0, 0): 2756, datetime.datetime(2012, 1, 1, 0, 0): 2758, datetime.datetime(2012, 6, 1, 0, 0): 2826, datetime.datetime(2012, 2, 1, 0, 0): 2357, datetime.datetime(2013, 4, 1, 0, 0): 2798, datetime.datetime(2012, 12, 1, 0, 0): 2791, datetime.datetime(2013, 6, 1, 0, 0): 2920, datetime.datetime(2012, 9, 1, 0, 0): 2852, datetime.datetime(2012, 8, 1, 0, 0): 2954, datetime.datetime(2013, 8, 1, 0, 0): 2859, datetime.datetime(2013, 5, 1, 0, 0): 2806, datetime.datetime(2012, 11, 1, 0, 0): 2729}\n"
     ]
    },
    {
     "data": {
      "text/plain": [
       "{datetime.datetime(2012, 1, 1, 0, 0): 972,\n",
       " datetime.datetime(2012, 2, 1, 0, 0): 749,\n",
       " datetime.datetime(2012, 3, 1, 0, 0): 966,\n",
       " datetime.datetime(2012, 4, 1, 0, 0): 999,\n",
       " datetime.datetime(2012, 5, 1, 0, 0): 1003,\n",
       " datetime.datetime(2012, 6, 1, 0, 0): 1044,\n",
       " datetime.datetime(2012, 7, 1, 0, 0): 1160,\n",
       " datetime.datetime(2012, 8, 1, 0, 0): 1090,\n",
       " datetime.datetime(2012, 9, 1, 0, 0): 1070,\n",
       " datetime.datetime(2012, 10, 1, 0, 0): 979,\n",
       " datetime.datetime(2012, 11, 1, 0, 0): 978,\n",
       " datetime.datetime(2012, 12, 1, 0, 0): 1083,\n",
       " datetime.datetime(2013, 1, 1, 0, 0): 986,\n",
       " datetime.datetime(2013, 2, 1, 0, 0): 721,\n",
       " datetime.datetime(2013, 3, 1, 0, 0): 923,\n",
       " datetime.datetime(2013, 4, 1, 0, 0): 916,\n",
       " datetime.datetime(2013, 5, 1, 0, 0): 955,\n",
       " datetime.datetime(2013, 6, 1, 0, 0): 1066,\n",
       " datetime.datetime(2013, 7, 1, 0, 0): 1137,\n",
       " datetime.datetime(2013, 8, 1, 0, 0): 1000,\n",
       " datetime.datetime(2013, 9, 1, 0, 0): 954,\n",
       " datetime.datetime(2013, 10, 1, 0, 0): 1009,\n",
       " datetime.datetime(2013, 11, 1, 0, 0): 979,\n",
       " datetime.datetime(2013, 12, 1, 0, 0): 1028,\n",
       " datetime.datetime(2014, 1, 1, 0, 0): 871,\n",
       " datetime.datetime(2014, 2, 1, 0, 0): 708,\n",
       " datetime.datetime(2014, 3, 1, 0, 0): 891,\n",
       " datetime.datetime(2014, 4, 1, 0, 0): 930,\n",
       " datetime.datetime(2014, 5, 1, 0, 0): 1018,\n",
       " datetime.datetime(2014, 6, 1, 0, 0): 1020,\n",
       " datetime.datetime(2014, 7, 1, 0, 0): 972,\n",
       " datetime.datetime(2014, 8, 1, 0, 0): 1035,\n",
       " datetime.datetime(2014, 9, 1, 0, 0): 942,\n",
       " datetime.datetime(2014, 10, 1, 0, 0): 980,\n",
       " datetime.datetime(2014, 11, 1, 0, 0): 962,\n",
       " datetime.datetime(2014, 12, 1, 0, 0): 1080}"
      ]
     },
     "execution_count": 18,
     "metadata": {},
     "output_type": "execute_result"
    }
   ],
   "source": [
    "#link between month, year and homicide\n",
    "homicide_day_counts={}\n",
    "homicide_year_count={}\n",
    "for a,b in enumerate(data):\n",
    "    if b[3]==\"Homicide\":\n",
    "        if dates[a] in homicide_day_counts:\n",
    "            homicide_day_counts[dates[a]]+=1\n",
    "        else:\n",
    "            homicide_day_counts[dates[a]]=1\n",
    "print(day_counts)\n",
    "homicide_day_counts"
   ]
  },
  {
   "cell_type": "code",
   "execution_count": 31,
   "metadata": {
    "collapsed": false
   },
   "outputs": [
    {
     "name": "stdout",
     "output_type": "stream",
     "text": [
      "{'F': 5373.0, 'M': 29803.0} {'F': 5373, 'M': 29803}\n",
      "{'F': 14449, 'M': 86349}\n",
      "{'F': 0.3718596442660392, 'M': 0.34514586156180155}\n"
     ]
    }
   ],
   "source": [
    "#link between gender and homicide\n",
    "def find(data,event,i_event,i_variable):\n",
    "    counts={}\n",
    "    event_counts={}\n",
    "    for i in data:\n",
    "        if i[i_variable] in event_counts:\n",
    "            counts[i[i_variable]]+=1\n",
    "        else:\n",
    "            counts[i[i_variable]]=1\n",
    "    \n",
    "    for i in data:\n",
    "        if i[i_event]==event:\n",
    "            if i[i_variable] in event_counts:\n",
    "                event_counts[i[i_variable]]+=1\n",
    "            else:\n",
    "                event_counts[i[i_variable]]=1\n",
    "            \n",
    "    for a,b in event_counts.items():\n",
    "        counts[a]=b/counts[a]\n",
    "    return counts,event_counts\n",
    "\n",
    "sex_count,homi_sex_count=find(data,\"Homicide\",3,5)\n",
    "print(sex_count)\n",
    "print(homi_sex_count)\n",
    "\n",
    "\n",
    "        \n",
    "        \n",
    "homicide_sex_counts={}\n",
    "for i in data:\n",
    "    if i[3]==\"Homicide\":\n",
    "        if i[5] in homicide_sex_counts:\n",
    "            homicide_sex_counts[i[5]]+=1\n",
    "        else:\n",
    "            homicide_sex_counts[i[5]]=1\n",
    "            \n",
    "for a,b in homicide_sex_counts.items():\n",
    "    homicide_sex_counts[a]=b/sex_counts[a]\n",
    "\n",
    "print(sex_counts)\n",
    "print(homicide_sex_counts)"
   ]
  },
  {
   "cell_type": "code",
   "execution_count": null,
   "metadata": {
    "collapsed": true
   },
   "outputs": [],
   "source": []
  },
  {
   "cell_type": "code",
   "execution_count": null,
   "metadata": {
    "collapsed": true
   },
   "outputs": [],
   "source": []
  }
 ],
 "metadata": {
  "kernelspec": {
   "display_name": "Python 3",
   "language": "python",
   "name": "python3"
  },
  "language_info": {
   "codemirror_mode": {
    "name": "ipython",
    "version": 3
   },
   "file_extension": ".py",
   "mimetype": "text/x-python",
   "name": "python",
   "nbconvert_exporter": "python",
   "pygments_lexer": "ipython3",
   "version": "3.4.3"
  }
 },
 "nbformat": 4,
 "nbformat_minor": 0
}
